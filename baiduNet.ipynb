{
 "cells": [
  {
   "cell_type": "code",
   "execution_count": 10,
   "metadata": {},
   "outputs": [],
   "source": [
    "#-*- coding: utf-8 -*-\n",
    "\n",
    "import urllib.request\n",
    "\n",
    "def baiduNet():\n",
    "    \n",
    "    response = urllib.request.urlopen('https://www.baidu.com')\n",
    "    netcontext = response.read().decode('utf-8')\n",
    "    \n",
    "    file = open('baidutext.txt','w',encoding = 'UTF-8')\n",
    "    file.write(netcontext)\n",
    "    \n",
    "if __name__ == '__main__':\n",
    "    baiduNet()"
   ]
  },
  {
   "cell_type": "code",
   "execution_count": null,
   "metadata": {},
   "outputs": [],
   "source": []
  }
 ],
 "metadata": {
  "kernelspec": {
   "display_name": "Python 3",
   "language": "python",
   "name": "python3"
  },
  "language_info": {
   "codemirror_mode": {
    "name": "ipython",
    "version": 3
   },
   "file_extension": ".py",
   "mimetype": "text/x-python",
   "name": "python",
   "nbconvert_exporter": "python",
   "pygments_lexer": "ipython3",
   "version": "3.7.3"
  }
 },
 "nbformat": 4,
 "nbformat_minor": 2
}
